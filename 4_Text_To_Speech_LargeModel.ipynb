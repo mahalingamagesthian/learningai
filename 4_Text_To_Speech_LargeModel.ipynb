{
 "cells": [
  {
   "cell_type": "markdown",
   "id": "87c94fc3-cdc6-45c8-9cea-4309e1792a44",
   "metadata": {},
   "source": [
    "Install the dependent libraries. This page is inspired from the link \n",
    "https://www.marktechpost.com/2025/04/12/step-by-step-guide-on-converting-text-to-high-quality-audio-using-an-open-source-tts-model-on-hugging-face-including-detailed-audio-file-analysis-and-diagnostic-tools-in-python/"
   ]
  },
  {
   "cell_type": "code",
   "execution_count": null,
   "id": "dc0a4723-f001-4e3f-99fe-c0c55aa0218d",
   "metadata": {},
   "outputs": [],
   "source": [
    "!pip install TTS --trusted-host pypi.org --trusted-host files.pythonhosted.org"
   ]
  },
  {
   "cell_type": "code",
   "execution_count": 27,
   "id": "983bb9f4-16e9-48ed-8e4c-4a51e117c8d0",
   "metadata": {},
   "outputs": [],
   "source": [
    "from TTS.utils.synthesizer import Synthesizer"
   ]
  },
  {
   "cell_type": "code",
   "execution_count": 28,
   "id": "db92e10d-a7b7-43fd-b55b-b343a481d0e5",
   "metadata": {},
   "outputs": [],
   "source": [
    "from TTS.api import TTS\n",
    "import contextlib\n",
    "import wave"
   ]
  },
  {
   "cell_type": "code",
   "execution_count": null,
   "id": "5de97822-8ffc-433d-8b85-f65d5962d3a0",
   "metadata": {},
   "outputs": [],
   "source": [
    "!pip list"
   ]
  },
  {
   "cell_type": "code",
   "execution_count": 29,
   "id": "5782eaf5-f86c-4deb-abb0-b5d49ad7e327",
   "metadata": {},
   "outputs": [],
   "source": [
    "def text_to_speech(text: str, output_path: str = \"output.wav\", use_gpu: bool = False):\n",
    "    \"\"\"\n",
    "    Converts input text to speech and saves the result to an audio file.\n",
    "\n",
    "\n",
    "    Parameters:\n",
    "        text (str): The text to convert.\n",
    "        output_path (str): Output WAV file path.\n",
    "        use_gpu (bool): Use GPU for inference if available.\n",
    "    \"\"\"\n",
    "    model_name = \"tts_models/en/ljspeech/tacotron2-DDC\"\n",
    "   \n",
    "    tts = TTS(model_name=model_name, progress_bar=True, gpu=use_gpu)\n",
    "   \n",
    "    tts.tts_to_file(text=text, file_path=output_path)\n",
    "    print(f\"Audio file generated successfully: {output_path}\")"
   ]
  },
  {
   "cell_type": "code",
   "execution_count": 30,
   "id": "65cc94d9-0675-46c7-afb8-4dbe1a751621",
   "metadata": {},
   "outputs": [],
   "source": [
    "def analyze_audio(file_path: str):\n",
    "    \"\"\"\n",
    "    Analyzes the WAV audio file and prints details about it.\n",
    "   \n",
    "    Parameters:\n",
    "        file_path (str): The path to the WAV audio file.\n",
    "    \"\"\"\n",
    "    with contextlib.closing(wave.open(file_path, 'rb')) as wf:\n",
    "        frames = wf.getnframes()\n",
    "        rate = wf.getframerate()\n",
    "        duration = frames / float(rate)\n",
    "        sample_width = wf.getsampwidth()\n",
    "        channels = wf.getnchannels()\n",
    "   \n",
    "    print(\"\\nAudio Analysis:\")\n",
    "    print(f\" - Duration      : {duration:.2f} seconds\")\n",
    "    print(f\" - Frame Rate    : {rate} frames per second\")\n",
    "    print(f\" - Sample Width  : {sample_width} bytes\")\n",
    "    print(f\" - Channels      : {channels}\")"
   ]
  },
  {
   "cell_type": "code",
   "execution_count": 31,
   "id": "1e38aed8-9be7-421a-9624-b5a1107edac6",
   "metadata": {},
   "outputs": [
    {
     "name": "stdout",
     "output_type": "stream",
     "text": [
      " > Downloading model to /Users/in22898717/Library/Application Support/tts/tts_models--en--ljspeech--tacotron2-DDC\n"
     ]
    },
    {
     "name": "stderr",
     "output_type": "stream",
     "text": [
      "100%|█████████████████████████████████████████████████████████████████████████████████████████████████████████████████████████████████████████████████████████████████████████████████████████████████████████████████▉| 113M/113M [03:02<00:00, 565kiB/s]"
     ]
    },
    {
     "name": "stdout",
     "output_type": "stream",
     "text": [
      " > Model's license - apache 2.0\n",
      " > Check https://choosealicense.com/licenses/apache-2.0/ for more info.\n",
      " > Downloading model to /Users/in22898717/Library/Application Support/tts/vocoder_models--en--ljspeech--hifigan_v2\n"
     ]
    },
    {
     "name": "stderr",
     "output_type": "stream",
     "text": [
      "\n",
      "100%|██████████████████████████████████████████████████████████████████████████████████████████████████████████████████████████████████████████████████████████████████████████████████████████████████████████████████| 113M/113M [03:11<00:00, 587kiB/s]\u001b[A\n",
      "\n",
      "  0%|▎                                                                                                                                                                                                              | 6.14k/3.80M [00:00<01:30, 42.0kiB/s]\u001b[A\n",
      "  1%|█▊                                                                                                                                                                                                              | 33.8k/3.80M [00:00<00:28, 130kiB/s]\u001b[A\n",
      "  2%|███▋                                                                                                                                                                                                            | 66.6k/3.80M [00:00<00:19, 194kiB/s]\u001b[A\n",
      "  4%|████████▏                                                                                                                                                                                                        | 148k/3.80M [00:00<00:09, 397kiB/s]\u001b[A\n",
      "  5%|██████████▊                                                                                                                                                                                                      | 198k/3.80M [00:00<00:09, 364kiB/s]\u001b[A\n",
      "  6%|█████████████                                                                                                                                                                                                    | 238k/3.80M [00:00<00:10, 327kiB/s]\u001b[A\n",
      "  7%|██████████████▉                                                                                                                                                                                                  | 272k/3.80M [00:00<00:11, 302kiB/s]\u001b[A\n",
      "  9%|██████████████████                                                                                                                                                                                               | 329k/3.80M [00:01<00:09, 352kiB/s]\u001b[A\n",
      " 11%|██████████████████████▌                                                                                                                                                                                          | 411k/3.80M [00:01<00:07, 469kiB/s]\u001b[A\n",
      " 14%|█████████████████████████████▊                                                                                                                                                                                   | 542k/3.80M [00:01<00:04, 693kiB/s]\u001b[A\n",
      " 19%|███████████████████████████████████████▋                                                                                                                                                                         | 722k/3.80M [00:01<00:03, 960kiB/s]\u001b[A\n",
      " 24%|██████████████████████████████████████████████████▎                                                                                                                                                             | 919k/3.80M [00:01<00:02, 1.23MiB/s]\u001b[A\n",
      " 28%|██████████████████████████████████████████████████████████▉                                                                                                                                                    | 1.08M/3.80M [00:01<00:02, 1.34MiB/s]\u001b[A\n",
      " 33%|████████████████████████████████████████████████████████████████████▋                                                                                                                                          | 1.26M/3.80M [00:01<00:01, 1.46MiB/s]\u001b[A\n",
      " 38%|██████████████████████████████████████████████████████████████████████████████▌                                                                                                                                | 1.44M/3.80M [00:01<00:01, 1.55MiB/s]\u001b[A\n",
      " 42%|███████████████████████████████████████████████████████████████████████████████████████▏                                                                                                                       | 1.60M/3.80M [00:02<00:01, 1.15MiB/s]\u001b[A\n",
      " 46%|██████████████████████████████████████████████████████████████████████████████████████████████▊                                                                                                                 | 1.73M/3.80M [00:02<00:02, 925kiB/s]\u001b[A\n",
      " 48%|████████████████████████████████████████████████████████████████████████████████████████████████████▊                                                                                                           | 1.84M/3.80M [00:02<00:02, 821kiB/s]\u001b[A\n",
      " 52%|███████████████████████████████████████████████████████████████████████████████████████████████████████████▌                                                                                                    | 1.97M/3.80M [00:02<00:02, 888kiB/s]\u001b[A\n",
      " 56%|████████████████████████████████████████████████████████████████████████████████████████████████████████████████████                                                                                           | 2.13M/3.80M [00:02<00:01, 1.03MiB/s]\u001b[A\n",
      " 59%|██████████████████████████████████████████████████████████████████████████████████████████████████████████████████████████▉                                                                                     | 2.25M/3.80M [00:02<00:02, 672kiB/s]\u001b[A\n",
      " 61%|███████████████████████████████████████████████████████████████████████████████████████████████████████████████████████████████▉                                                                                | 2.34M/3.80M [00:03<00:02, 492kiB/s]\u001b[A\n",
      " 63%|███████████████████████████████████████████████████████████████████████████████████████████████████████████████████████████████████▊                                                                            | 2.41M/3.80M [00:03<00:03, 356kiB/s]\u001b[A\n",
      " 66%|████████████████████████████████████████████████████████████████████████████████████████████████████████████████████████████████████████▎                                                                       | 2.49M/3.80M [00:03<00:03, 408kiB/s]\u001b[A\n",
      " 67%|███████████████████████████████████████████████████████████████████████████████████████████████████████████████████████████████████████████▉                                                                    | 2.56M/3.80M [00:03<00:02, 440kiB/s]\u001b[A\n",
      " 70%|█████████████████████████████████████████████████████████████████████████████████████████████████████████████████████████████████████████████████▎                                                              | 2.66M/3.80M [00:04<00:02, 525kiB/s]\u001b[A\n",
      " 73%|███████████████████████████████████████████████████████████████████████████████████████████████████████████████████████████████████████████████████████▌                                                        | 2.77M/3.80M [00:04<00:01, 645kiB/s]\u001b[A\n",
      " 76%|██████████████████████████████████████████████████████████████████████████████████████████████████████████████████████████████████████████████████████████████▋                                                 | 2.90M/3.80M [00:04<00:01, 765kiB/s]\u001b[A\n",
      " 79%|███████████████████████████████████████████████████████████████████████████████████████████████████████████████████████████████████████████████████████████████████▋                                            | 2.99M/3.80M [00:04<00:01, 637kiB/s]\u001b[A\n",
      " 81%|████████████████████████████████████████████████████████████████████████████████████████████████████████████████████████████████████████████████████████████████████████                                        | 3.07M/3.80M [00:04<00:01, 645kiB/s]\u001b[A\n",
      " 83%|████████████████████████████████████████████████████████████████████████████████████████████████████████████████████████████████████████████████████████████████████████████                                    | 3.15M/3.80M [00:04<00:01, 548kiB/s]\u001b[A\n",
      " 84%|███████████████████████████████████████████████████████████████████████████████████████████████████████████████████████████████████████████████████████████████████████████████▌                                | 3.21M/3.80M [00:05<00:01, 411kiB/s]\u001b[A\n",
      " 86%|██████████████████████████████████████████████████████████████████████████████████████████████████████████████████████████████████████████████████████████████████████████████████▎                             | 3.26M/3.80M [00:05<00:01, 339kiB/s]\u001b[A\n",
      " 87%|████████████████████████████████████████████████████████████████████████████████████████████████████████████████████████████████████████████████████████████████████████████████████▋                           | 3.30M/3.80M [00:05<00:01, 296kiB/s]\u001b[A\n",
      " 90%|███████████████████████████████████████████████████████████████████████████████████████████████████████████████████████████████████████████████████████████████████████████████████████████▍                    | 3.43M/3.80M [00:05<00:00, 438kiB/s]\u001b[A\n",
      " 92%|███████████████████████████████████████████████████████████████████████████████████████████████████████████████████████████████████████████████████████████████████████████████████████████████▊                | 3.51M/3.80M [00:05<00:00, 495kiB/s]\u001b[A\n",
      " 94%|████████████████████████████████████████████████████████████████████████████████████████████████████████████████████████████████████████████████████████████████████████████████████████████████████▎           | 3.59M/3.80M [00:05<00:00, 540kiB/s]\u001b[A\n",
      " 97%|█████████████████████████████████████████████████████████████████████████████████████████████████████████████████████████████████████████████████████████████████████████████████████████████████████████▋      | 3.69M/3.80M [00:06<00:00, 591kiB/s]\u001b[A\n",
      "100%|███████████████████████████████████████████████████████████████████████████████████████████████████████████████████████████████████████████████████████████████████████████████████████████████████████████████ | 3.79M/3.80M [00:06<00:00, 655kiB/s]\u001b[A"
     ]
    },
    {
     "name": "stdout",
     "output_type": "stream",
     "text": [
      " > Model's license - apache 2.0\n",
      " > Check https://choosealicense.com/licenses/apache-2.0/ for more info.\n",
      " > Using model: Tacotron2\n",
      " > Setting up Audio Processor...\n",
      " | > sample_rate:22050\n",
      " | > resample:False\n",
      " | > num_mels:80\n",
      " | > log_func:np.log\n",
      " | > min_level_db:-100\n",
      " | > frame_shift_ms:None\n",
      " | > frame_length_ms:None\n",
      " | > ref_level_db:20\n",
      " | > fft_size:1024\n",
      " | > power:1.5\n",
      " | > preemphasis:0.0\n",
      " | > griffin_lim_iters:60\n",
      " | > signal_norm:False\n",
      " | > symmetric_norm:True\n",
      " | > mel_fmin:0\n",
      " | > mel_fmax:8000.0\n",
      " | > pitch_fmin:1.0\n",
      " | > pitch_fmax:640.0\n",
      " | > spec_gain:1.0\n",
      " | > stft_pad_mode:reflect\n",
      " | > max_norm:4.0\n",
      " | > clip_norm:True\n",
      " | > do_trim_silence:True\n",
      " | > trim_db:60\n",
      " | > do_sound_norm:False\n",
      " | > do_amp_to_db_linear:True\n",
      " | > do_amp_to_db_mel:True\n",
      " | > do_rms_norm:False\n",
      " | > db_level:None\n",
      " | > stats_path:None\n",
      " | > base:2.718281828459045\n",
      " | > hop_length:256\n",
      " | > win_length:1024\n",
      " > Model's reduction rate `r` is set to: 1\n",
      " > Vocoder Model: hifigan\n",
      " > Setting up Audio Processor...\n",
      " | > sample_rate:22050\n",
      " | > resample:False\n",
      " | > num_mels:80\n",
      " | > log_func:np.log\n",
      " | > min_level_db:-100\n",
      " | > frame_shift_ms:None\n",
      " | > frame_length_ms:None\n",
      " | > ref_level_db:20\n",
      " | > fft_size:1024\n",
      " | > power:1.5\n",
      " | > preemphasis:0.0\n",
      " | > griffin_lim_iters:60\n",
      " | > signal_norm:False\n",
      " | > symmetric_norm:True\n",
      " | > mel_fmin:0\n",
      " | > mel_fmax:8000.0\n",
      " | > pitch_fmin:1.0\n",
      " | > pitch_fmax:640.0\n",
      " | > spec_gain:1.0\n",
      " | > stft_pad_mode:reflect\n",
      " | > max_norm:4.0\n",
      " | > clip_norm:True\n",
      " | > do_trim_silence:False\n",
      " | > trim_db:60\n",
      " | > do_sound_norm:False\n",
      " | > do_amp_to_db_linear:True\n",
      " | > do_amp_to_db_mel:True\n",
      " | > do_rms_norm:False\n",
      " | > db_level:None\n",
      " | > stats_path:None\n",
      " | > base:2.718281828459045\n",
      " | > hop_length:256\n",
      " | > win_length:1024\n",
      " > Generator Model: hifigan_generator\n",
      " > Discriminator Model: hifigan_discriminator\n",
      "Removing weight norm...\n",
      " > Text splitted to sentences.\n",
      "['Marktechpost is an AI News Platform providing easy-to-consume, byte size updates in machine learning, deep learning, and data science research.', 'Our vision is to showcase the hottest research trends in AI from around the world using our innovative method of search and discovery']\n",
      " > Processing time: 3.4502971172332764\n",
      " > Real-time factor: 0.17490402099194838\n",
      "Audio file generated successfully: output.wav\n",
      "\n",
      "Audio Analysis:\n",
      " - Duration      : 19.73 seconds\n",
      " - Frame Rate    : 22050 frames per second\n",
      " - Sample Width  : 2 bytes\n",
      " - Channels      : 1\n"
     ]
    },
    {
     "name": "stderr",
     "output_type": "stream",
     "text": [
      "\n",
      "100%|████████████████████████████████████████████████████████████████████████████████████████████████████████████████████████████████████████████████████████████████████████████████████████████████████████████████| 3.80M/3.80M [00:18<00:00, 655kiB/s]\u001b[A"
     ]
    }
   ],
   "source": [
    "if __name__ == \"__main__\":\n",
    "    sample_text = (\n",
    "        \"Marktechpost is an AI News Platform providing easy-to-consume, byte size updates in machine learning, deep learning, and data science research. Our vision is to showcase the hottest research trends in AI from around the world using our innovative method of search and discovery\"\n",
    "    )\n",
    "   \n",
    "    output_file = \"output.wav\"\n",
    "    text_to_speech(sample_text, output_path=output_file)\n",
    "   \n",
    "    analyze_audio(output_file)"
   ]
  }
 ],
 "metadata": {
  "kernelspec": {
   "display_name": "Python 3 (ipykernel)",
   "language": "python",
   "name": "python3"
  },
  "language_info": {
   "codemirror_mode": {
    "name": "ipython",
    "version": 3
   },
   "file_extension": ".py",
   "mimetype": "text/x-python",
   "name": "python",
   "nbconvert_exporter": "python",
   "pygments_lexer": "ipython3",
   "version": "3.11.11"
  }
 },
 "nbformat": 4,
 "nbformat_minor": 5
}
