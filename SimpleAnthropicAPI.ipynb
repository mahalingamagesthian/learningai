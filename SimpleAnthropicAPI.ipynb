{
  "nbformat": 4,
  "nbformat_minor": 0,
  "metadata": {
    "colab": {
      "provenance": [],
      "authorship_tag": "ABX9TyNKzdAyF57qM5zBjiuXK7lc",
      "include_colab_link": true
    },
    "kernelspec": {
      "name": "python3",
      "display_name": "Python 3"
    },
    "language_info": {
      "name": "python"
    }
  },
  "cells": [
    {
      "cell_type": "markdown",
      "metadata": {
        "id": "view-in-github",
        "colab_type": "text"
      },
      "source": [
        "<a href=\"https://colab.research.google.com/github/mahalingamagesthian/learningai/blob/main/SimpleAnthropicAPI.ipynb\" target=\"_parent\"><img src=\"https://colab.research.google.com/assets/colab-badge.svg\" alt=\"Open In Colab\"/></a>"
      ]
    },
    {
      "cell_type": "markdown",
      "source": [
        "# Anthropic's API:\n",
        "Claude models, including Claude 3 Opus, are primarily accessed through Anthropic's own API. You need to sign up for an Anthropic account and use their Python client library (anthropic).\n",
        "\n",
        "To run this Demo, You need to generate Anthropic API Key. You can buy Credits by logging into https://console.anthropic.com/\n"
      ],
      "metadata": {
        "id": "3QEOl8ov8eCc"
      }
    },
    {
      "cell_type": "code",
      "source": [
        "pip install anthropic"
      ],
      "metadata": {
        "id": "p4d80eJCWBJm"
      },
      "execution_count": null,
      "outputs": []
    },
    {
      "cell_type": "code",
      "execution_count": 8,
      "metadata": {
        "colab": {
          "base_uri": "https://localhost:8080/"
        },
        "id": "hWwsQH3dU4Tm",
        "outputId": "7e806b26-204b-466c-d9d1-6a3f4179e5b1"
      },
      "outputs": [
        {
          "output_type": "stream",
          "name": "stdout",
          "text": [
            "Whiskers twitch and eyes aglow,\n",
            "Paws so soft, step graceful and slow.\n",
            "Purring warmly, curled up tight,\n",
            "A feline friend, a sweet delight.\n",
            "In sunlit patches, dreams are spun,\n",
            "This gentle creature, beloved by one.\n"
          ]
        }
      ],
      "source": [
        "import anthropic\n",
        "import os\n",
        "os.environ[\"ANTHROPIC_API_KEY\"] = 'YourAnthropicKey'\n",
        "\n",
        "client = anthropic.Anthropic(api_key=os.environ.get(\"ANTHROPIC_API_KEY\"))\n",
        "\n",
        "message = client.messages.create(\n",
        "    model=\"claude-3-opus-20240229\",\n",
        "    max_tokens=1024,\n",
        "    messages=[\n",
        "        {\"role\": \"user\", \"content\": \"Write a short poem about a cat.\"}\n",
        "    ]\n",
        ")\n",
        "\n",
        "print(message.content[0].text)"
      ]
    }
  ]
}